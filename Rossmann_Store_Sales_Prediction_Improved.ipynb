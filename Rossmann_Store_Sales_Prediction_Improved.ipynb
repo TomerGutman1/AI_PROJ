{
 "cells": [
  {
   "cell_type": "markdown",
   "id": "20ad9d82",
   "metadata": {},
   "source": [
    "# 🏪 Rossmann Store Sales Prediction\n",
    "This Jupyter Notebook preprocesses data, trains a model, and makes predictions for the Kaggle competition."
   ]
  },
  {
   "cell_type": "code",
   "execution_count": 1,
   "id": "9f6dc052",
   "metadata": {},
   "outputs": [
    {
     "name": "stderr",
     "output_type": "stream",
     "text": [
      "c:\\Users\\tomer\\AppData\\Local\\Programs\\Python\\Python313\\Lib\\site-packages\\tqdm\\auto.py:21: TqdmWarning: IProgress not found. Please update jupyter and ipywidgets. See https://ipywidgets.readthedocs.io/en/stable/user_install.html\n",
      "  from .autonotebook import tqdm as notebook_tqdm\n"
     ]
    }
   ],
   "source": [
    "\n",
    "# 📌 Import Required Libraries\n",
    "import pandas as pd\n",
    "import numpy as np\n",
    "from sklearn.model_selection import train_test_split\n",
    "from sklearn.metrics import mean_absolute_error\n",
    "from xgboost import XGBRegressor\n",
    "import matplotlib.pyplot as plt\n",
    "import optuna"
   ]
  },
  {
   "cell_type": "code",
   "execution_count": null,
   "id": "fd186bea",
   "metadata": {},
   "outputs": [],
   "source": []
  },
  {
   "cell_type": "code",
   "execution_count": 2,
   "id": "d5806352",
   "metadata": {},
   "outputs": [
    {
     "name": "stderr",
     "output_type": "stream",
     "text": [
      "C:\\Users\\tomer\\AppData\\Local\\Temp\\ipykernel_19856\\1521606264.py:2: DtypeWarning: Columns (7) have mixed types. Specify dtype option on import or set low_memory=False.\n",
      "  train_df = pd.read_csv(\"train.csv\")\n"
     ]
    }
   ],
   "source": [
    "# 📌 Step 1: Load Datasets\n",
    "train_df = pd.read_csv(\"train.csv\")\n",
    "test_df = pd.read_csv(\"test.csv\")\n",
    "store_df = pd.read_csv(\"store.csv\")\n",
    "\n",
    "# Convert 'Date' to datetime\n",
    "train_df['Date'] = pd.to_datetime(train_df['Date'])\n",
    "test_df['Date'] = pd.to_datetime(test_df['Date'])\n",
    "\n",
    "# Merge store data\n",
    "train_merged = train_df.merge(store_df, on='Store', how='left')\n",
    "test_merged = test_df.merge(store_df, on='Store', how='left')\n",
    "\n",
    "# Fill missing values\n",
    "train_merged.fillna(0, inplace=True)\n",
    "test_merged.fillna(0, inplace=True)\n"
   ]
  },
  {
   "cell_type": "code",
   "execution_count": 3,
   "id": "a68bc6a5",
   "metadata": {},
   "outputs": [],
   "source": [
    "# 📌 Step 2: Add Date-Related Features\n",
    "for df in [train_merged, test_merged]:\n",
    "    df['Year'] = df['Date'].dt.year\n",
    "    df['Month'] = df['Date'].dt.month\n",
    "    df['WeekOfYear'] = df['Date'].dt.isocalendar().week\n",
    "    df['Day'] = df['Date'].dt.day\n",
    "    df['IsWeekend'] = (df['DayOfWeek'] >= 6).astype(int)  # Saturday and Sunday\n",
    "\n",
    "# Drop 'Date' column\n",
    "train_merged.drop(columns=['Date'], inplace=True)\n",
    "test_merged.drop(columns=['Date'], inplace=True)\n"
   ]
  },
  {
   "cell_type": "code",
   "execution_count": null,
   "id": "1de2a6e5",
   "metadata": {},
   "outputs": [],
   "source": []
  },
  {
   "cell_type": "code",
   "execution_count": 4,
   "id": "04cb77f8",
   "metadata": {},
   "outputs": [
    {
     "name": "stderr",
     "output_type": "stream",
     "text": [
      "C:\\Users\\tomer\\AppData\\Local\\Temp\\ipykernel_19856\\385231430.py:18: FutureWarning: A value is trying to be set on a copy of a DataFrame or Series through chained assignment using an inplace method.\n",
      "The behavior will change in pandas 3.0. This inplace method will never work because the intermediate object on which we are setting values always behaves as a copy.\n",
      "\n",
      "For example, when doing 'df[col].method(value, inplace=True)', try using 'df.method({col: value}, inplace=True)' or df[col] = df[col].method(value) instead, to perform the operation inplace on the original object.\n",
      "\n",
      "\n",
      "  train_merged['CompetitionDistance'].fillna(train_merged['CompetitionDistance'].median(), inplace=True)\n",
      "C:\\Users\\tomer\\AppData\\Local\\Temp\\ipykernel_19856\\385231430.py:19: FutureWarning: A value is trying to be set on a copy of a DataFrame or Series through chained assignment using an inplace method.\n",
      "The behavior will change in pandas 3.0. This inplace method will never work because the intermediate object on which we are setting values always behaves as a copy.\n",
      "\n",
      "For example, when doing 'df[col].method(value, inplace=True)', try using 'df.method({col: value}, inplace=True)' or df[col] = df[col].method(value) instead, to perform the operation inplace on the original object.\n",
      "\n",
      "\n",
      "  train_merged['CompetitionOpenSinceMonth'].fillna(0, inplace=True)\n",
      "C:\\Users\\tomer\\AppData\\Local\\Temp\\ipykernel_19856\\385231430.py:20: FutureWarning: A value is trying to be set on a copy of a DataFrame or Series through chained assignment using an inplace method.\n",
      "The behavior will change in pandas 3.0. This inplace method will never work because the intermediate object on which we are setting values always behaves as a copy.\n",
      "\n",
      "For example, when doing 'df[col].method(value, inplace=True)', try using 'df.method({col: value}, inplace=True)' or df[col] = df[col].method(value) instead, to perform the operation inplace on the original object.\n",
      "\n",
      "\n",
      "  train_merged['CompetitionOpenSinceYear'].fillna(0, inplace=True)\n",
      "C:\\Users\\tomer\\AppData\\Local\\Temp\\ipykernel_19856\\385231430.py:21: FutureWarning: A value is trying to be set on a copy of a DataFrame or Series through chained assignment using an inplace method.\n",
      "The behavior will change in pandas 3.0. This inplace method will never work because the intermediate object on which we are setting values always behaves as a copy.\n",
      "\n",
      "For example, when doing 'df[col].method(value, inplace=True)', try using 'df.method({col: value}, inplace=True)' or df[col] = df[col].method(value) instead, to perform the operation inplace on the original object.\n",
      "\n",
      "\n",
      "  train_merged['Promo2SinceWeek'].fillna(0, inplace=True)\n",
      "C:\\Users\\tomer\\AppData\\Local\\Temp\\ipykernel_19856\\385231430.py:22: FutureWarning: A value is trying to be set on a copy of a DataFrame or Series through chained assignment using an inplace method.\n",
      "The behavior will change in pandas 3.0. This inplace method will never work because the intermediate object on which we are setting values always behaves as a copy.\n",
      "\n",
      "For example, when doing 'df[col].method(value, inplace=True)', try using 'df.method({col: value}, inplace=True)' or df[col] = df[col].method(value) instead, to perform the operation inplace on the original object.\n",
      "\n",
      "\n",
      "  train_merged['Promo2SinceYear'].fillna(0, inplace=True)\n"
     ]
    },
    {
     "name": "stdout",
     "output_type": "stream",
     "text": [
      "Feature Engineering Completed ✅\n",
      "Available columns in train_merged: Index(['Store', 'DayOfWeek', 'Sales', 'Customers', 'Open', 'Promo',\n",
      "       'StateHoliday', 'SchoolHoliday', 'StoreType', 'Assortment',\n",
      "       'CompetitionDistance', 'CompetitionOpenSinceMonth',\n",
      "       'CompetitionOpenSinceYear', 'Promo2', 'Promo2SinceWeek',\n",
      "       'Promo2SinceYear', 'PromoInterval', 'Year', 'Month', 'WeekOfYear',\n",
      "       'Day', 'IsWeekend', 'CompetitionOpenSince', 'Promo2OpenSince',\n",
      "       'Sales_Lag_7', 'Sales_Lag_14', 'Sales_Lag_30', 'Sales_Rolling_Mean_7',\n",
      "       'Sales_Rolling_Std_7', 'Promo_IsWeekend', 'Promo_CompetitionOpen',\n",
      "       'Promo2_Competition'],\n",
      "      dtype='object')\n"
     ]
    }
   ],
   "source": [
    "\n",
    "# 📌 Data Preparation: Define Features and Target Variable\n",
    "\n",
    "features = [\n",
    "    'Store', 'DayOfWeek', 'Promo', 'StateHoliday', 'SchoolHoliday',\n",
    "    'StoreType', 'Assortment', 'CompetitionDistance', 'Year', 'Month',\n",
    "    'WeekOfYear', 'Day', 'IsWeekend', 'CompetitionOpenSince', 'Promo2OpenSince',\n",
    "    'Sales_Lag_7', 'Sales_Lag_14', 'Sales_Lag_30',\n",
    "    'Sales_Rolling_Mean_7', 'Sales_Rolling_Std_7', 'Promo_IsWeekend',\n",
    "    'Promo_CompetitionOpen', 'Promo2_Competition'\n",
    "]\n",
    "\n",
    "target = 'Sales'\n",
    "\n",
    "\n",
    "# 📌 Ensure Feature Engineering is Applied to train_merged\n",
    "\n",
    "# Fill missing values for Competition and Promotion features\n",
    "train_merged['CompetitionDistance'].fillna(train_merged['CompetitionDistance'].median(), inplace=True)\n",
    "train_merged['CompetitionOpenSinceMonth'].fillna(0, inplace=True)\n",
    "train_merged['CompetitionOpenSinceYear'].fillna(0, inplace=True)\n",
    "train_merged['Promo2SinceWeek'].fillna(0, inplace=True)\n",
    "train_merged['Promo2SinceYear'].fillna(0, inplace=True)\n",
    "\n",
    "# Compute Competition Open Duration\n",
    "train_merged['CompetitionOpenSince'] = 12 * (train_merged['Year'] - train_merged['CompetitionOpenSinceYear']) + \\\n",
    "                                       (train_merged['Month'] - train_merged['CompetitionOpenSinceMonth'])\n",
    "train_merged['CompetitionOpenSince'] = train_merged['CompetitionOpenSince'].apply(lambda x: max(x, 0))\n",
    "\n",
    "# Compute Promo2 Duration\n",
    "train_merged['Promo2OpenSince'] = 12 * (train_merged['Year'] - train_merged['Promo2SinceYear']) + \\\n",
    "                                  (train_merged['WeekOfYear'] - train_merged['Promo2SinceWeek']) // 4\n",
    "train_merged['Promo2OpenSince'] = train_merged['Promo2OpenSince'].apply(lambda x: max(x, 0))\n",
    "\n",
    "# 📌 Add Lag and Rolling Features\n",
    "def add_lag_features(df, lag_days, rolling_window):\n",
    "    for lag in lag_days:\n",
    "        df[f'Sales_Lag_{lag}'] = df.groupby('Store')['Sales'].shift(lag)\n",
    "    \n",
    "    df[f'Sales_Rolling_Mean_{rolling_window}'] = (\n",
    "        df.groupby('Store')['Sales'].shift(1).rolling(rolling_window).mean()\n",
    "    )\n",
    "    df[f'Sales_Rolling_Std_{rolling_window}'] = (\n",
    "        df.groupby('Store')['Sales'].shift(1).rolling(rolling_window).std()\n",
    "    )\n",
    "    return df\n",
    "\n",
    "# Apply lag and rolling features\n",
    "lag_days = [7, 14, 30]\n",
    "rolling_window = 7\n",
    "train_merged = add_lag_features(train_merged, lag_days, rolling_window)\n",
    "\n",
    "# Fill missing values after shifting operations\n",
    "train_merged.fillna(0, inplace=True)\n",
    "\n",
    "# 📌 Add Interaction Features\n",
    "train_merged['Promo_IsWeekend'] = train_merged['Promo'] * (train_merged['DayOfWeek'] >= 6).astype(int)\n",
    "train_merged['Promo_CompetitionOpen'] = train_merged['Promo'] * train_merged['CompetitionOpenSince']\n",
    "train_merged['Promo2_Competition'] = train_merged['Promo2OpenSince'] * train_merged['CompetitionOpenSince']\n",
    "\n",
    "# Ensure all engineered features exist before model training\n",
    "print(\"Feature Engineering Completed ✅\")\n",
    "print(\"Available columns in train_merged:\", train_merged.columns)\n",
    "\n",
    "\n",
    "# Prepare training data\n",
    "X = train_merged[features]\n",
    "y = train_merged[target]\n",
    "\n",
    "# Train-test split\n",
    "from sklearn.model_selection import train_test_split\n",
    "X_train, X_val, y_train, y_val = train_test_split(X, y, test_size=0.2, random_state=42)\n"
   ]
  },
  {
   "cell_type": "code",
   "execution_count": 5,
   "id": "f2feae6e",
   "metadata": {},
   "outputs": [],
   "source": [
    "# 📌 Step 3: Add Competition and Promotion Features\n",
    "def add_competition_promo_features(df):\n",
    "    # Time since competition opened\n",
    "    df['CompetitionOpenSince'] = 12 * (df['Year'] - df['CompetitionOpenSinceYear']) + \\\n",
    "                                  (df['Month'] - df['CompetitionOpenSinceMonth'])\n",
    "    df['CompetitionOpenSince'] = df['CompetitionOpenSince'].apply(lambda x: max(x, 0))  # No negative values\n",
    "    \n",
    "    # Time since Promo2 started\n",
    "    df['Promo2OpenSince'] = 12 * (df['Year'] - df['Promo2SinceYear']) + \\\n",
    "                            (df['WeekOfYear'] - df['Promo2SinceWeek']) // 4\n",
    "    df['Promo2OpenSince'] = df['Promo2OpenSince'].apply(lambda x: max(x, 0))  # No negative values\n",
    "\n",
    "    return df\n",
    "\n",
    "# Apply to both train and test datasets\n",
    "train_merged = add_competition_promo_features(train_merged)\n",
    "test_merged = add_competition_promo_features(test_merged)\n"
   ]
  },
  {
   "cell_type": "markdown",
   "id": "6167a09c",
   "metadata": {},
   "source": [
    "# 📌 Feature Importance using XGBoost"
   ]
  },
  {
   "cell_type": "code",
   "execution_count": 6,
   "id": "363425bd",
   "metadata": {},
   "outputs": [
    {
     "data": {
      "image/png": "[encoded data removed]",
      "text/plain": [
       "<Figure size 1000x600 with 1 Axes>"
      ]
     },
     "metadata": {},
     "output_type": "display_data"
    }
   ],
   "source": [
    "\n",
    "# Train the model to compute feature importance\n",
    "model = XGBRegressor(\n",
    "    n_estimators=500,\n",
    "    learning_rate=0.05,\n",
    "    max_depth=8,\n",
    "    subsample=0.8,\n",
    "    colsample_bytree=0.8,\n",
    "    random_state=42\n",
    ")\n",
    "\n",
    "# Ensure categorical columns are properly encoded\n",
    "categorical_cols = ['StateHoliday', 'StoreType', 'Assortment']\n",
    "\n",
    "for col in categorical_cols:\n",
    "    X_train[col] = X_train[col].astype('category').cat.codes\n",
    "    X_val[col] = X_val[col].astype('category').cat.codes\n",
    "\n",
    "\n",
    "model.fit(X_train, y_train)\n",
    "\n",
    "# Compute feature importance\n",
    "feature_importance = model.feature_importances_\n",
    "importance_df = pd.DataFrame({\n",
    "    'Feature': X_train.columns,\n",
    "    'Importance': feature_importance\n",
    "}).sort_values(by='Importance', ascending=False)\n",
    "\n",
    "# Plot feature importance\n",
    "importance_df.plot(kind='bar', x='Feature', y='Importance', figsize=(10, 6), legend=False)\n",
    "plt.title(\"Feature Importance from XGBoost\")\n",
    "plt.show()\n",
    "    "
   ]
  },
  {
   "cell_type": "markdown",
   "id": "90eecad3",
   "metadata": {},
   "source": [
    "## **Drop Less Important Features (Optional)**"
   ]
  },
  {
   "cell_type": "code",
   "execution_count": 7,
   "id": "1adf7484",
   "metadata": {},
   "outputs": [
    {
     "name": "stdout",
     "output_type": "stream",
     "text": [
      "Low importance features: ['Sales_Lag_30', 'Promo_CompetitionOpen', 'Sales_Rolling_Mean_7', 'Month', 'StoreType', 'Sales_Rolling_Std_7', 'Year', 'SchoolHoliday', 'Assortment', 'Promo2OpenSince', 'CompetitionDistance', 'CompetitionOpenSince', 'Store', 'Promo2_Competition', 'Promo_IsWeekend']\n"
     ]
    }
   ],
   "source": [
    "\n",
    "# Drop features with very low importance if necessary (threshold-based)\n",
    "low_importance_features = importance_df[importance_df['Importance'] < 0.01]['Feature']\n",
    "print(f\"Low importance features: {low_importance_features.tolist()}\")\n",
    "\n",
    "# Update feature list by excluding low-importance features (optional)\n",
    "features = [f for f in features if f not in low_importance_features.tolist()]\n",
    "\n",
    "# Re-split data with updated feature list\n",
    "X = train_merged[features]\n",
    "y = train_merged['Sales']\n",
    "X_train, X_val, y_train, y_val = train_test_split(X, y, test_size=0.2, random_state=42)\n",
    "    "
   ]
  },
  {
   "cell_type": "code",
   "execution_count": 8,
   "id": "e2aff9c5",
   "metadata": {},
   "outputs": [],
   "source": [
    "# 📌 Step 4: Add Lag and Rolling Features\n",
    "def add_lag_features(df, lag_days, rolling_window):\n",
    "    for lag in lag_days:\n",
    "        df[f'Sales_Lag_{lag}'] = df.groupby('Store')['Sales'].shift(lag)\n",
    "    \n",
    "    # Add rolling mean and std\n",
    "    df[f'Sales_Rolling_Mean_{rolling_window}'] = (\n",
    "        df.groupby('Store')['Sales'].shift(1).rolling(rolling_window).mean()\n",
    "    )\n",
    "    df[f'Sales_Rolling_Std_{rolling_window}'] = (\n",
    "        df.groupby('Store')['Sales'].shift(1).rolling(rolling_window).std()\n",
    "    )\n",
    "    return df\n",
    "\n",
    "lag_days = [7, 14, 30]\n",
    "rolling_window = 7\n",
    "train_merged = add_lag_features(train_merged, lag_days, rolling_window)\n",
    "train_merged = train_merged.dropna()\n",
    "\n",
    "# Add placeholder lag features in test set\n",
    "for lag in lag_days:\n",
    "    test_merged[f'Sales_Lag_{lag}'] = 0\n",
    "test_merged[f'Sales_Rolling_Mean_{rolling_window}'] = 0\n",
    "test_merged[f'Sales_Rolling_Std_{rolling_window}'] = 0\n"
   ]
  },
  {
   "cell_type": "code",
   "execution_count": 9,
   "id": "f1f57733",
   "metadata": {},
   "outputs": [],
   "source": [
    "# 📌 Add Interaction Features\n",
    "train_merged['Promo_IsWeekend'] = train_merged['Promo'] * train_merged['IsWeekend']\n",
    "train_merged['Promo_CompetitionOpen'] = train_merged['Promo'] * train_merged['CompetitionOpenSince']\n",
    "train_merged['Promo2_Competition'] = train_merged['Promo2OpenSince'] * train_merged['CompetitionOpenSince']\n",
    "\n",
    "test_merged['Promo_IsWeekend'] = test_merged['Promo'] * test_merged['IsWeekend']\n",
    "test_merged['Promo_CompetitionOpen'] = test_merged['Promo'] * test_merged['CompetitionOpenSince']\n",
    "test_merged['Promo2_Competition'] = test_merged['Promo2OpenSince'] * test_merged['CompetitionOpenSince']\n"
   ]
  },
  {
   "cell_type": "code",
   "execution_count": 10,
   "id": "e0046101",
   "metadata": {},
   "outputs": [],
   "source": [
    "# 📌 Log Transform Skewed Features\n",
    "for col in ['Sales', 'CompetitionDistance', 'Sales_Lag_7', 'Sales_Lag_14', 'Sales_Lag_30']:\n",
    "    if col in train_merged:\n",
    "        train_merged[f'Log_{col}'] = np.log1p(train_merged[col])  # Apply log(1+x) to avoid log(0)\n",
    "    if col in test_merged:\n",
    "        test_merged[f'Log_{col}'] = np.log1p(test_merged[col])\n"
   ]
  },
  {
   "cell_type": "code",
   "execution_count": 11,
   "id": "86281491",
   "metadata": {},
   "outputs": [],
   "source": [
    "# 📌 Add Sales Trends (Sales Change Rate Over Weeks)\n",
    "train_merged['Sales_Trend_7'] = train_merged['Sales'] - train_merged['Sales_Lag_7']\n",
    "train_merged['Sales_Trend_14'] = train_merged['Sales_Lag_7'] - train_merged['Sales_Lag_14']\n",
    "\n",
    "test_merged['Sales_Trend_7'] = 0  # Placeholder for test set\n",
    "test_merged['Sales_Trend_14'] = 0\n"
   ]
  },
  {
   "cell_type": "code",
   "execution_count": 12,
   "id": "6cf5bd65",
   "metadata": {},
   "outputs": [],
   "source": [
    "# 📌 Expand Holiday Features\n",
    "train_merged['IsHoliday'] = (train_merged['StateHoliday'] != 0).astype(int)\n",
    "test_merged['IsHoliday'] = (test_merged['StateHoliday'] != 0).astype(int)\n",
    "\n",
    "# Add different holiday types\n",
    "holiday_map = {'a': 1, 'b': 2, 'c': 3, 0: 0}\n",
    "train_merged['Holiday_Type'] = train_merged['StateHoliday'].map(holiday_map)\n",
    "test_merged['Holiday_Type'] = test_merged['StateHoliday'].map(holiday_map)\n"
   ]
  },
  {
   "cell_type": "code",
   "execution_count": 13,
   "id": "a6f7ce19",
   "metadata": {},
   "outputs": [
    {
     "name": "stderr",
     "output_type": "stream",
     "text": [
      "C:\\Users\\tomer\\AppData\\Local\\Temp\\ipykernel_19856\\1403823467.py:19: SettingWithCopyWarning: \n",
      "A value is trying to be set on a copy of a slice from a DataFrame.\n",
      "Try using .loc[row_indexer,col_indexer] = value instead\n",
      "\n",
      "See the caveats in the documentation: https://pandas.pydata.org/pandas-docs/stable/user_guide/indexing.html#returning-a-view-versus-a-copy\n",
      "  X[col] = X[col].astype('category').cat.codes\n",
      "C:\\Users\\tomer\\AppData\\Local\\Temp\\ipykernel_19856\\1403823467.py:19: SettingWithCopyWarning: \n",
      "A value is trying to be set on a copy of a slice from a DataFrame.\n",
      "Try using .loc[row_indexer,col_indexer] = value instead\n",
      "\n",
      "See the caveats in the documentation: https://pandas.pydata.org/pandas-docs/stable/user_guide/indexing.html#returning-a-view-versus-a-copy\n",
      "  X[col] = X[col].astype('category').cat.codes\n",
      "C:\\Users\\tomer\\AppData\\Local\\Temp\\ipykernel_19856\\1403823467.py:19: SettingWithCopyWarning: \n",
      "A value is trying to be set on a copy of a slice from a DataFrame.\n",
      "Try using .loc[row_indexer,col_indexer] = value instead\n",
      "\n",
      "See the caveats in the documentation: https://pandas.pydata.org/pandas-docs/stable/user_guide/indexing.html#returning-a-view-versus-a-copy\n",
      "  X[col] = X[col].astype('category').cat.codes\n"
     ]
    }
   ],
   "source": [
    "# 📌 Step 5: Feature and Target Selection# 📌 Update Features List\n",
    "features = [\n",
    "    'Store', 'DayOfWeek', 'Promo', 'StateHoliday', 'SchoolHoliday',\n",
    "    'StoreType', 'Assortment', 'CompetitionDistance', 'Year', 'Month',\n",
    "    'WeekOfYear', 'Day', 'IsWeekend', 'CompetitionOpenSince', 'Promo2OpenSince',\n",
    "    'Sales_Lag_7', 'Sales_Lag_14', 'Sales_Lag_30',\n",
    "    'Sales_Rolling_Mean_7', 'Sales_Rolling_Std_7',\n",
    "    'Promo_IsWeekend', 'Promo_CompetitionOpen', 'Promo2_Competition',\n",
    "    'Log_CompetitionDistance', 'Log_Sales_Lag_7', 'Log_Sales_Lag_14',\n",
    "    'Sales_Trend_7', 'Sales_Trend_14', 'IsHoliday', 'Holiday_Type'\n",
    "]\n",
    "\n",
    "# Update the training and validation datasets\n",
    "X = train_merged[features]\n",
    "y = train_merged['Sales']\n",
    "\n",
    "# Encode categorical variables\n",
    "for col in ['StateHoliday', 'StoreType', 'Assortment']:\n",
    "    X[col] = X[col].astype('category').cat.codes\n",
    "\n",
    "X_train, X_val, y_train, y_val = train_test_split(X, y, test_size=0.2, random_state=42)\n"
   ]
  },
  {
   "cell_type": "code",
   "execution_count": 15,
   "id": "7c67e61f",
   "metadata": {},
   "outputs": [
    {
     "name": "stdout",
     "output_type": "stream",
     "text": [
      "Cross-Validated MAE: 51.145221586063585\n"
     ]
    }
   ],
   "source": [
    "\n",
    "from sklearn.model_selection import KFold, cross_val_score\n",
    "best_params = {\n",
    "    'n_estimators': 976,\n",
    "    'learning_rate': 0.03533635148231648,\n",
    "    'max_depth': 10,\n",
    "    'subsample': 0.7193324904029138,\n",
    "    'colsample_bytree': 0.8146030125958886,\n",
    "    'gamma': 3.141650744859958,\n",
    "    'lambda': 4.035202839704222,\n",
    "    'alpha': 0.8636126527933182\n",
    "}\n",
    "# Define cross-validation\n",
    "kf = KFold(n_splits=5, shuffle=True, random_state=42)\n",
    "\n",
    "# New function for evaluating models using cross-validation\n",
    "def evaluate_model(model, X_train, y_train):\n",
    "    scores = cross_val_score(model, X_train, y_train, scoring=\"neg_mean_absolute_error\", cv=kf, n_jobs=-1)\n",
    "    return -scores.mean()\n",
    "\n",
    "# Example of use:\n",
    "xgb_model = XGBRegressor(**best_params, random_state=42, n_jobs=4)\n",
    "mae_cv = evaluate_model(xgb_model, X_train, y_train)\n",
    "print(f\"Cross-Validated MAE: {mae_cv}\")\n"
   ]
  },
  {
   "cell_type": "code",
   "execution_count": 16,
   "id": "b5468167",
   "metadata": {},
   "outputs": [
    {
     "name": "stdout",
     "output_type": "stream",
     "text": [
      "MAE after Hyperparameter Tuning: 49.09956678232806\n"
     ]
    }
   ],
   "source": [
    "# 📌 Step 6: Train the XGBoost Model\n",
    "# 📌 Train XGBoost with Best Hyperparameters from Optuna\n",
    "best_params = {\n",
    "    'n_estimators': 976,\n",
    "    'learning_rate': 0.03533635148231648,\n",
    "    'max_depth': 10,\n",
    "    'subsample': 0.7193324904029138,\n",
    "    'colsample_bytree': 0.8146030125958886,\n",
    "    'gamma': 3.141650744859958,\n",
    "    'lambda': 4.035202839704222,\n",
    "    'alpha': 0.8636126527933182\n",
    "}\n",
    "\n",
    "# Train the optimized model\n",
    "optimized_model = XGBRegressor(**best_params, n_jobs=4, random_state=42)\n",
    "optimized_model.fit(X_train, y_train)\n",
    "\n",
    "# Predict and Evaluate\n",
    "y_pred = optimized_model.predict(X_val)\n",
    "mae = mean_absolute_error(y_val, y_pred)\n",
    "print(f\"MAE after Hyperparameter Tuning: {mae}\")\n"
   ]
  },
  {
   "cell_type": "code",
   "execution_count": 19,
   "id": "a3142dc4",
   "metadata": {},
   "outputs": [
    {
     "name": "stdout",
     "output_type": "stream",
     "text": [
      "Collecting lightgbm\n",
      "  Using cached lightgbm-4.5.0-py3-none-win_amd64.whl.metadata (17 kB)\n",
      "Collecting catboost\n",
      "  Using cached catboost-1.2.7.tar.gz (71.5 MB)\n",
      "  Installing build dependencies: started\n",
      "  Installing build dependencies: finished with status 'error'\n"
     ]
    },
    {
     "name": "stderr",
     "output_type": "stream",
     "text": [
      "  error: subprocess-exited-with-error\n",
      "  \n",
      "  × pip subprocess to install build dependencies did not run successfully.\n",
      "  │ exit code: 1\n",
      "  ╰─> [145 lines of output]\n",
      "      Collecting setuptools>=64.0\n",
      "        Using cached setuptools-75.8.0-py3-none-any.whl.metadata (6.7 kB)\n",
      "      Collecting wheel\n",
      "        Using cached wheel-0.45.1-py3-none-any.whl.metadata (2.3 kB)\n",
      "      Collecting jupyterlab==3.*,>=3.0.6\n",
      "        Using cached jupyterlab-3.6.8-py3-none-any.whl.metadata (12 kB)\n",
      "      Collecting conan~=1.62\n",
      "        Using cached conan-1.66.0.tar.gz (789 kB)\n",
      "        Installing build dependencies: started\n",
      "        Installing build dependencies: finished with status 'done'\n",
      "        Getting requirements to build wheel: started\n",
      "        Getting requirements to build wheel: finished with status 'done'\n",
      "        Preparing metadata (pyproject.toml): started\n",
      "        Preparing metadata (pyproject.toml): finished with status 'done'\n",
      "      Collecting ipython (from jupyterlab==3.*,>=3.0.6)\n",
      "        Using cached ipython-8.31.0-py3-none-any.whl.metadata (4.9 kB)\n",
      "      Collecting packaging (from jupyterlab==3.*,>=3.0.6)\n",
      "        Using cached packaging-24.2-py3-none-any.whl.metadata (3.2 kB)\n",
      "      Collecting tornado>=6.1.0 (from jupyterlab==3.*,>=3.0.6)\n",
      "        Using cached tornado-6.4.2-cp38-abi3-win_amd64.whl.metadata (2.6 kB)\n",
      "      Collecting jupyter-core (from jupyterlab==3.*,>=3.0.6)\n",
      "        Using cached jupyter_core-5.7.2-py3-none-any.whl.metadata (3.4 kB)\n",
      "      Collecting jupyterlab-server~=2.19 (from jupyterlab==3.*,>=3.0.6)\n",
      "        Using cached jupyterlab_server-2.27.3-py3-none-any.whl.metadata (5.9 kB)\n",
      "      Collecting jupyter-server<3,>=1.16.0 (from jupyterlab==3.*,>=3.0.6)\n",
      "        Using cached jupyter_server-2.15.0-py3-none-any.whl.metadata (8.4 kB)\n",
      "      Collecting jupyter-ydoc~=0.2.4 (from jupyterlab==3.*,>=3.0.6)\n",
      "        Using cached jupyter_ydoc-0.2.5-py3-none-any.whl.metadata (2.2 kB)\n",
      "      Collecting jupyter-server-ydoc~=0.8.0 (from jupyterlab==3.*,>=3.0.6)\n",
      "        Using cached jupyter_server_ydoc-0.8.0-py3-none-any.whl.metadata (5.3 kB)\n",
      "      Collecting nbclassic (from jupyterlab==3.*,>=3.0.6)\n",
      "        Using cached nbclassic-1.2.0-py3-none-any.whl.metadata (3.6 kB)\n",
      "      Collecting notebook<7 (from jupyterlab==3.*,>=3.0.6)\n",
      "        Using cached notebook-6.5.7-py3-none-any.whl.metadata (2.5 kB)\n",
      "      Collecting jinja2>=2.1 (from jupyterlab==3.*,>=3.0.6)\n",
      "        Using cached jinja2-3.1.5-py3-none-any.whl.metadata (2.6 kB)\n",
      "      Collecting requests<3.0.0,>=2.25 (from conan~=1.62)\n",
      "        Using cached requests-2.32.3-py3-none-any.whl.metadata (4.6 kB)\n",
      "      Collecting urllib3<1.27,>=1.26.6 (from conan~=1.62)\n",
      "        Using cached urllib3-1.26.20-py2.py3-none-any.whl.metadata (50 kB)\n",
      "      Collecting colorama<0.5.0,>=0.3.3 (from conan~=1.62)\n",
      "        Using cached colorama-0.4.6-py2.py3-none-any.whl.metadata (17 kB)\n",
      "      Collecting PyYAML<6.1,>=3.11 (from conan~=1.62)\n",
      "        Using cached PyYAML-6.0.2-cp313-cp313-win_amd64.whl.metadata (2.1 kB)\n",
      "      Collecting patch-ng<1.18,>=1.17.4 (from conan~=1.62)\n",
      "        Using cached patch-ng-1.17.4.tar.gz (17 kB)\n",
      "        Installing build dependencies: started\n",
      "        Installing build dependencies: finished with status 'done'\n",
      "        Getting requirements to build wheel: started\n",
      "        Getting requirements to build wheel: finished with status 'done'\n",
      "        Preparing metadata (pyproject.toml): started\n",
      "        Preparing metadata (pyproject.toml): finished with status 'done'\n",
      "      Collecting fasteners>=0.14.1 (from conan~=1.62)\n",
      "        Using cached fasteners-0.19-py3-none-any.whl.metadata (4.9 kB)\n",
      "      Collecting six<=1.16.0,>=1.10.0 (from conan~=1.62)\n",
      "        Using cached six-1.16.0-py2.py3-none-any.whl.metadata (1.8 kB)\n",
      "      Collecting node-semver==0.6.1 (from conan~=1.62)\n",
      "        Using cached node_semver-0.6.1-py3-none-any.whl.metadata (2.1 kB)\n",
      "      Collecting pygments<3.0,>=2.0 (from conan~=1.62)\n",
      "        Using cached pygments-2.19.1-py3-none-any.whl.metadata (2.5 kB)\n",
      "      Collecting tqdm<5,>=4.28.1 (from conan~=1.62)\n",
      "        Using cached tqdm-4.67.1-py3-none-any.whl.metadata (57 kB)\n",
      "      Collecting python-dateutil<3,>=2.7.0 (from conan~=1.62)\n",
      "        Using cached python_dateutil-2.9.0.post0-py2.py3-none-any.whl.metadata (8.4 kB)\n",
      "      Collecting bottle<0.13,>=0.12.8 (from conan~=1.62)\n",
      "        Using cached bottle-0.12.25-py3-none-any.whl.metadata (1.8 kB)\n",
      "      Collecting pluginbase>=0.5 (from conan~=1.62)\n",
      "        Using cached pluginbase-1.0.1.tar.gz (43 kB)\n",
      "        Installing build dependencies: started\n",
      "        Installing build dependencies: finished with status 'done'\n",
      "        Getting requirements to build wheel: started\n",
      "        Getting requirements to build wheel: finished with status 'done'\n",
      "        Preparing metadata (pyproject.toml): started\n",
      "        Preparing metadata (pyproject.toml): finished with status 'done'\n",
      "      Collecting PyJWT<3.0.0,>=2.4.0 (from conan~=1.62)\n",
      "        Using cached PyJWT-2.10.1-py3-none-any.whl.metadata (4.0 kB)\n",
      "      Collecting MarkupSafe>=2.0 (from jinja2>=2.1->jupyterlab==3.*,>=3.0.6)\n",
      "        Using cached MarkupSafe-3.0.2-cp313-cp313-win_amd64.whl.metadata (4.1 kB)\n",
      "      Collecting anyio>=3.1.0 (from jupyter-server<3,>=1.16.0->jupyterlab==3.*,>=3.0.6)\n",
      "        Using cached anyio-4.8.0-py3-none-any.whl.metadata (4.6 kB)\n",
      "      Collecting argon2-cffi>=21.1 (from jupyter-server<3,>=1.16.0->jupyterlab==3.*,>=3.0.6)\n",
      "        Using cached argon2_cffi-23.1.0-py3-none-any.whl.metadata (5.2 kB)\n",
      "      Collecting jupyter-client>=7.4.4 (from jupyter-server<3,>=1.16.0->jupyterlab==3.*,>=3.0.6)\n",
      "        Using cached jupyter_client-8.6.3-py3-none-any.whl.metadata (8.3 kB)\n",
      "      Collecting jupyter-events>=0.11.0 (from jupyter-server<3,>=1.16.0->jupyterlab==3.*,>=3.0.6)\n",
      "        Using cached jupyter_events-0.11.0-py3-none-any.whl.metadata (5.8 kB)\n",
      "      Collecting jupyter-server-terminals>=0.4.4 (from jupyter-server<3,>=1.16.0->jupyterlab==3.*,>=3.0.6)\n",
      "        Using cached jupyter_server_terminals-0.5.3-py3-none-any.whl.metadata (5.6 kB)\n",
      "      Collecting nbconvert>=6.4.4 (from jupyter-server<3,>=1.16.0->jupyterlab==3.*,>=3.0.6)\n",
      "        Using cached nbconvert-7.16.6-py3-none-any.whl.metadata (8.5 kB)\n",
      "      Collecting nbformat>=5.3.0 (from jupyter-server<3,>=1.16.0->jupyterlab==3.*,>=3.0.6)\n",
      "        Using cached nbformat-5.10.4-py3-none-any.whl.metadata (3.6 kB)\n",
      "      Collecting overrides>=5.0 (from jupyter-server<3,>=1.16.0->jupyterlab==3.*,>=3.0.6)\n",
      "        Using cached overrides-7.7.0-py3-none-any.whl.metadata (5.8 kB)\n",
      "      Collecting prometheus-client>=0.9 (from jupyter-server<3,>=1.16.0->jupyterlab==3.*,>=3.0.6)\n",
      "        Using cached prometheus_client-0.21.1-py3-none-any.whl.metadata (1.8 kB)\n",
      "      Collecting pywinpty>=2.0.1 (from jupyter-server<3,>=1.16.0->jupyterlab==3.*,>=3.0.6)\n",
      "        Using cached pywinpty-2.0.14-cp313-none-win_amd64.whl.metadata (5.2 kB)\n",
      "      Collecting pyzmq>=24 (from jupyter-server<3,>=1.16.0->jupyterlab==3.*,>=3.0.6)\n",
      "        Using cached pyzmq-26.2.0-cp313-cp313-win_amd64.whl.metadata (6.2 kB)\n",
      "      Collecting send2trash>=1.8.2 (from jupyter-server<3,>=1.16.0->jupyterlab==3.*,>=3.0.6)\n",
      "        Using cached Send2Trash-1.8.3-py3-none-any.whl.metadata (4.0 kB)\n",
      "      Collecting terminado>=0.8.3 (from jupyter-server<3,>=1.16.0->jupyterlab==3.*,>=3.0.6)\n",
      "        Using cached terminado-0.18.1-py3-none-any.whl.metadata (5.8 kB)\n",
      "      Collecting traitlets>=5.6.0 (from jupyter-server<3,>=1.16.0->jupyterlab==3.*,>=3.0.6)\n",
      "        Using cached traitlets-5.14.3-py3-none-any.whl.metadata (10 kB)\n",
      "      Collecting websocket-client>=1.7 (from jupyter-server<3,>=1.16.0->jupyterlab==3.*,>=3.0.6)\n",
      "        Using cached websocket_client-1.8.0-py3-none-any.whl.metadata (8.0 kB)\n",
      "      Collecting platformdirs>=2.5 (from jupyter-core->jupyterlab==3.*,>=3.0.6)\n",
      "        Using cached platformdirs-4.3.6-py3-none-any.whl.metadata (11 kB)\n",
      "      Collecting pywin32>=300 (from jupyter-core->jupyterlab==3.*,>=3.0.6)\n",
      "        Using cached pywin32-308-cp313-cp313-win_amd64.whl.metadata (8.3 kB)\n",
      "      Collecting jupyter-server-fileid<1,>=0.6.0 (from jupyter-server-ydoc~=0.8.0->jupyterlab==3.*,>=3.0.6)\n",
      "        Using cached jupyter_server_fileid-0.9.3-py3-none-any.whl.metadata (4.7 kB)\n",
      "      Collecting ypy-websocket<0.9.0,>=0.8.2 (from jupyter-server-ydoc~=0.8.0->jupyterlab==3.*,>=3.0.6)\n",
      "        Using cached ypy_websocket-0.8.4-py3-none-any.whl.metadata (2.5 kB)\n",
      "      Collecting y-py<0.7.0,>=0.6.0 (from jupyter-ydoc~=0.2.4->jupyterlab==3.*,>=3.0.6)\n",
      "        Using cached y_py-0.6.2.tar.gz (53 kB)\n",
      "        Installing build dependencies: started\n",
      "        Installing build dependencies: finished with status 'done'\n",
      "        Getting requirements to build wheel: started\n",
      "        Getting requirements to build wheel: finished with status 'done'\n",
      "        Preparing metadata (pyproject.toml): started\n",
      "        Preparing metadata (pyproject.toml): finished with status 'error'\n",
      "        error: subprocess-exited-with-error\n",
      "      \n",
      "        Ã— Preparing metadata (pyproject.toml) did not run successfully.\n",
      "        â”‚ exit code: 1\n",
      "        â•°â”€> [6 lines of output]\n",
      "            Checking for Rust toolchain....\n",
      "      \n",
      "            Cargo, the Rust package manager, is not installed or is not on PATH.\n",
      "            This package requires Rust and Cargo to compile extensions. Install it through\n",
      "            the system's package manager or via https://rustup.rs/\n",
      "      \n",
      "            [end of output]\n",
      "      \n",
      "        note: This error originates from a subprocess, and is likely not a problem with pip.\n",
      "      error: metadata-generation-failed\n",
      "      \n",
      "      Ã— Encountered error while generating package metadata.\n",
      "      â•°â”€> See above for output.\n",
      "      \n",
      "      note: This is an issue with the package mentioned above, not pip.\n",
      "      hint: See above for details.\n",
      "      [end of output]\n",
      "  \n",
      "  note: This error originates from a subprocess, and is likely not a problem with pip.\n",
      "error: subprocess-exited-with-error\n",
      "\n",
      "× pip subprocess to install build dependencies did not run successfully.\n",
      "│ exit code: 1\n",
      "╰─> See above for output.\n",
      "\n",
      "note: This error originates from a subprocess, and is likely not a problem with pip.\n"
     ]
    },
    {
     "ename": "ModuleNotFoundError",
     "evalue": "No module named 'lightgbm'",
     "output_type": "error",
     "traceback": [
      "\u001b[1;31m---------------------------------------------------------------------------\u001b[0m",
      "\u001b[1;31mModuleNotFoundError\u001b[0m                       Traceback (most recent call last)",
      "Cell \u001b[1;32mIn[19], line 3\u001b[0m\n\u001b[0;32m      1\u001b[0m get_ipython()\u001b[38;5;241m.\u001b[39msystem(\u001b[38;5;124m'\u001b[39m\u001b[38;5;124mpip install lightgbm catboost\u001b[39m\u001b[38;5;124m'\u001b[39m)\n\u001b[0;32m      2\u001b[0m \u001b[38;5;28;01mfrom\u001b[39;00m \u001b[38;5;21;01msklearn\u001b[39;00m\u001b[38;5;21;01m.\u001b[39;00m\u001b[38;5;21;01mensemble\u001b[39;00m \u001b[38;5;28;01mimport\u001b[39;00m StackingRegressor\n\u001b[1;32m----> 3\u001b[0m \u001b[38;5;28;01mfrom\u001b[39;00m \u001b[38;5;21;01mlightgbm\u001b[39;00m \u001b[38;5;28;01mimport\u001b[39;00m LGBMRegressor\n\u001b[0;32m      4\u001b[0m \u001b[38;5;28;01mfrom\u001b[39;00m \u001b[38;5;21;01mcatboost\u001b[39;00m \u001b[38;5;28;01mimport\u001b[39;00m CatBoostRegressor\n\u001b[0;32m      6\u001b[0m \u001b[38;5;66;03m# Define base models\u001b[39;00m\n",
      "\u001b[1;31mModuleNotFoundError\u001b[0m: No module named 'lightgbm'"
     ]
    }
   ],
   "source": [
    "!pip install lightgbm catboost\n",
    "from sklearn.ensemble import StackingRegressor\n",
    "from lightgbm import LGBMRegressor\n",
    "from catboost import CatBoostRegressor\n",
    "\n",
    "# Define base models\n",
    "xgb = optimized_model\n",
    "lgb = LGBMRegressor(n_estimators=500, learning_rate=0.05, random_state=42)\n",
    "cat = CatBoostRegressor(iterations=500, learning_rate=0.05, depth=6, random_state=42, verbose=0)\n",
    "\n",
    "# Define stacked model\n",
    "stacked_model = StackingRegressor(\n",
    "    estimators=[('xgb', xgb), ('lgb', lgb), ('cat', cat)],\n",
    "    final_estimator=XGBRegressor(n_estimators=500, learning_rate=0.05, max_depth=8, random_state=42),\n",
    "    n_jobs=-1\n",
    ")\n",
    "\n",
    "# Train stacked model\n",
    "stacked_model.fit(X_train, y_train)\n",
    "\n",
    "# Evaluate\n",
    "y_pred = stacked_model.predict(X_val)\n",
    "mae = mean_absolute_error(y_val, y_pred)\n",
    "print(f\"Stacked Model MAE: {mae}\")\n"
   ]
  },
  {
   "cell_type": "code",
   "execution_count": null,
   "id": "708cab26",
   "metadata": {},
   "outputs": [],
   "source": [
    "\n",
    "# Set threshold for feature importance\n",
    "threshold = 0.005  # Adjust based on importance distribution\n",
    "\n",
    "# Select features above the threshold\n",
    "important_features = importance_df[importance_df['Importance'] > threshold]['Feature'].tolist()\n",
    "print(f\"Selected {len(important_features)} features out of {X_train.shape[1]}\")\n",
    "\n",
    "# Update training and test datasets\n",
    "X_train = X_train[important_features]\n",
    "X_val = X_val[important_features]\n",
    "test_merged = test_merged[important_features]\n"
   ]
  },
  {
   "cell_type": "markdown",
   "id": "90eecad3",
   "metadata": {},
   "source": [
    "## **Drop Less Important Features (Optional)**"
   ]
  },
  {
   "cell_type": "code",
   "execution_count": 7,
   "id": "1adf7484",
   "metadata": {},
   "outputs": [
    {
     "name": "stdout",
     "output_type": "stream",
     "text": [
      "Low importance features: ['Sales_Lag_30', 'Promo_CompetitionOpen', 'Sales_Rolling_Mean_7', 'Month', 'StoreType', 'Sales_Rolling_Std_7', 'Year', 'SchoolHoliday', 'Assortment', 'Promo2OpenSince', 'CompetitionDistance', 'CompetitionOpenSince', 'Store', 'Promo2_Competition', 'Promo_IsWeekend']\n"
     ]
    }
   ],
   "source": [
    "\n",
    "# Drop features with very low importance if necessary (threshold-based)\n",
    "low_importance_features = importance_df[importance_df['Importance'] < 0.01]['Feature']\n",
    "print(f\"Low importance features: {low_importance_features.tolist()}\")\n",
    "\n",
    "# Update feature list by excluding low-importance features (optional)\n",
    "features = [f for f in features if f not in low_importance_features.tolist()]\n",
    "\n",
    "# Re-split data with updated feature list\n",
    "X = train_merged[features]\n",
    "y = train_merged['Sales']\n",
    "X_train, X_val, y_train, y_val = train_test_split(X, y, test_size=0.2, random_state=42)\n",
    "    "
   ]
  },
  {
   "cell_type": "code",
   "execution_count": 8,
   "id": "e2aff9c5",
   "metadata": {},
   "outputs": [],
   "source": [
    "# 📌 Step 4: Add Lag and Rolling Features\n",
    "def add_lag_features(df, lag_days, rolling_window):\n",
    "    for lag in lag_days:\n",
    "        df[f'Sales_Lag_{lag}'] = df.groupby('Store')['Sales'].shift(lag)\n",
    "    \n",
    "    # Add rolling mean and std\n",
    "    df[f'Sales_Rolling_Mean_{rolling_window}'] = (\n",
    "        df.groupby('Store')['Sales'].shift(1).rolling(rolling_window).mean()\n",
    "    )\n",
    "    df[f'Sales_Rolling_Std_{rolling_window}'] = (\n",
    "        df.groupby('Store')['Sales'].shift(1).rolling(rolling_window).std()\n",
    "    )\n",
    "    return df\n",
    "\n",
    "lag_days = [7, 14, 30]\n",
    "rolling_window = 7\n",
    "train_merged = add_lag_features(train_merged, lag_days, rolling_window)\n",
    "train_merged = train_merged.dropna()\n",
    "\n",
    "# Add placeholder lag features in test set\n",
    "for lag in lag_days:\n",
    "    test_merged[f'Sales_Lag_{lag}'] = 0\n",
    "test_merged[f'Sales_Rolling_Mean_{rolling_window}'] = 0\n",
    "test_merged[f'Sales_Rolling_Std_{rolling_window}'] = 0\n"
   ]
  },
  {
   "cell_type": "code",
   "execution_count": 9,
   "id": "f1f57733",
   "metadata": {},
   "outputs": [],
   "source": [
    "# 📌 Add Interaction Features\n",
    "train_merged['Promo_IsWeekend'] = train_merged['Promo'] * train_merged['IsWeekend']\n",
    "train_merged['Promo_CompetitionOpen'] = train_merged['Promo'] * train_merged['CompetitionOpenSince']\n",
    "train_merged['Promo2_Competition'] = train_merged['Promo2OpenSince'] * train_merged['CompetitionOpenSince']\n",
    "\n",
    "test_merged['Promo_IsWeekend'] = test_merged['Promo'] * test_merged['IsWeekend']\n",
    "test_merged['Promo_CompetitionOpen'] = test_merged['Promo'] * test_merged['CompetitionOpenSince']\n",
    "test_merged['Promo2_Competition'] = test_merged['Promo2OpenSince'] * test_merged['CompetitionOpenSince']\n"
   ]
  },
  {
   "cell_type": "code",
   "execution_count": 10,
   "id": "e0046101",
   "metadata": {},
   "outputs": [],
   "source": [
    "# 📌 Log Transform Skewed Features\n",
    "for col in ['Sales', 'CompetitionDistance', 'Sales_Lag_7', 'Sales_Lag_14', 'Sales_Lag_30']:\n",
    "    if col in train_merged:\n",
    "        train_merged[f'Log_{col}'] = np.log1p(train_merged[col])  # Apply log(1+x) to avoid log(0)\n",
    "    if col in test_merged:\n",
    "        test_merged[f'Log_{col}'] = np.log1p(test_merged[col])\n"
   ]
  },
  {
   "cell_type": "code",
   "execution_count": 11,
   "id": "86281491",
   "metadata": {},
   "outputs": [],
   "source": [
    "# 📌 Add Sales Trends (Sales Change Rate Over Weeks)\n",
    "train_merged['Sales_Trend_7'] = train_merged['Sales'] - train_merged['Sales_Lag_7']\n",
    "train_merged['Sales_Trend_14'] = train_merged['Sales_Lag_7'] - train_merged['Sales_Lag_14']\n",
    "\n",
    "test_merged['Sales_Trend_7'] = 0  # Placeholder for test set\n",
    "test_merged['Sales_Trend_14'] = 0\n"
   ]
  },
  {
   "cell_type": "code",
   "execution_count": 12,
   "id": "6cf5bd65",
   "metadata": {},
   "outputs": [],
   "source": [
    "# 📌 Expand Holiday Features\n",
    "train_merged['IsHoliday'] = (train_merged['StateHoliday'] != 0).astype(int)\n",
    "test_merged['IsHoliday'] = (test_merged['StateHoliday'] != 0).astype(int)\n",
    "\n",
    "# Add different holiday types\n",
    "holiday_map = {'a': 1, 'b': 2, 'c': 3, 0: 0}\n",
    "train_merged['Holiday_Type'] = train_merged['StateHoliday'].map(holiday_map)\n",
    "test_merged['Holiday_Type'] = test_merged['StateHoliday'].map(holiday_map)\n"
   ]
  },
  {
   "cell_type": "code",
   "execution_count": 13,
   "id": "a6f7ce19",
   "metadata": {},
   "outputs": [
    {
     "name": "stderr",
     "output_type": "stream",
     "text": [
      "C:\\Users\\tomer\\AppData\\Local\\Temp\\ipykernel_15076\\1403823467.py:19: SettingWithCopyWarning: \n",
      "A value is trying to be set on a copy of a slice from a DataFrame.\n",
      "Try using .loc[row_indexer,col_indexer] = value instead\n",
      "\n",
      "See the caveats in the documentation: https://pandas.pydata.org/pandas-docs/stable/user_guide/indexing.html#returning-a-view-versus-a-copy\n",
      "  X[col] = X[col].astype('category').cat.codes\n",
      "C:\\Users\\tomer\\AppData\\Local\\Temp\\ipykernel_15076\\1403823467.py:19: SettingWithCopyWarning: \n",
      "A value is trying to be set on a copy of a slice from a DataFrame.\n",
      "Try using .loc[row_indexer,col_indexer] = value instead\n",
      "\n",
      "See the caveats in the documentation: https://pandas.pydata.org/pandas-docs/stable/user_guide/indexing.html#returning-a-view-versus-a-copy\n",
      "  X[col] = X[col].astype('category').cat.codes\n",
      "C:\\Users\\tomer\\AppData\\Local\\Temp\\ipykernel_15076\\1403823467.py:19: SettingWithCopyWarning: \n",
      "A value is trying to be set on a copy of a slice from a DataFrame.\n",
      "Try using .loc[row_indexer,col_indexer] = value instead\n",
      "\n",
      "See the caveats in the documentation: https://pandas.pydata.org/pandas-docs/stable/user_guide/indexing.html#returning-a-view-versus-a-copy\n",
      "  X[col] = X[col].astype('category').cat.codes\n"
     ]
    }
   ],
   "source": [
    "# 📌 Step 5: Feature and Target Selection# 📌 Update Features List\n",
    "features = [\n",
    "    'Store', 'DayOfWeek', 'Promo', 'StateHoliday', 'SchoolHoliday',\n",
    "    'StoreType', 'Assortment', 'CompetitionDistance', 'Year', 'Month',\n",
    "    'WeekOfYear', 'Day', 'IsWeekend', 'CompetitionOpenSince', 'Promo2OpenSince',\n",
    "    'Sales_Lag_7', 'Sales_Lag_14', 'Sales_Lag_30',\n",
    "    'Sales_Rolling_Mean_7', 'Sales_Rolling_Std_7',\n",
    "    'Promo_IsWeekend', 'Promo_CompetitionOpen', 'Promo2_Competition',\n",
    "    'Log_CompetitionDistance', 'Log_Sales_Lag_7', 'Log_Sales_Lag_14',\n",
    "    'Sales_Trend_7', 'Sales_Trend_14', 'IsHoliday', 'Holiday_Type'\n",
    "]\n",
    "\n",
    "# Update the training and validation datasets\n",
    "X = train_merged[features]\n",
    "y = train_merged['Sales']\n",
    "\n",
    "# Encode categorical variables\n",
    "for col in ['StateHoliday', 'StoreType', 'Assortment']:\n",
    "    X[col] = X[col].astype('category').cat.codes\n",
    "\n",
    "X_train, X_val, y_train, y_val = train_test_split(X, y, test_size=0.2, random_state=42)\n"
   ]
  },
  {
   "cell_type": "code",
   "execution_count": 17,
   "id": "7b7e5350",
   "metadata": {},
   "outputs": [
    {
     "name": "stderr",
     "output_type": "stream",
     "text": [
      "[I 2025-01-29 17:11:39,649] A new study created in memory with name: no-name-fdd5c618-b87b-483a-9827-21059ce16885\n",
      "[I 2025-01-29 17:12:28,203] Trial 0 finished with value: 94.77560240955111 and parameters: {'n_estimators': 950, 'learning_rate': 0.11526766028191497, 'max_depth': 3, 'subsample': 0.9151395290552189, 'colsample_bytree': 0.837317173280543, 'gamma': 4.447155346386211, 'lambda': 4.9764043390372485, 'alpha': 1.1580357818500282}. Best is trial 0 with value: 94.77560240955111.\n",
      "[I 2025-01-29 17:13:45,166] Trial 1 finished with value: 73.15475309817317 and parameters: {'n_estimators': 897, 'learning_rate': 0.275780110354651, 'max_depth': 7, 'subsample': 0.6183424574729705, 'colsample_bytree': 0.7996611047817632, 'gamma': 4.602437101286226, 'lambda': 4.781129024400655, 'alpha': 3.00452379389676}. Best is trial 1 with value: 73.15475309817317.\n",
      "[I 2025-01-29 17:15:16,534] Trial 2 finished with value: 60.04181396510469 and parameters: {'n_estimators': 860, 'learning_rate': 0.0925943011142471, 'max_depth': 8, 'subsample': 0.7985179536284387, 'colsample_bytree': 0.6902870211869199, 'gamma': 0.49026986566688635, 'lambda': 0.6413183936189459, 'alpha': 3.4984683094745286}. Best is trial 2 with value: 60.04181396510469.\n",
      "[I 2025-01-29 17:16:34,170] Trial 3 finished with value: 72.60534331197991 and parameters: {'n_estimators': 866, 'learning_rate': 0.2856610950631564, 'max_depth': 7, 'subsample': 0.5242982379391239, 'colsample_bytree': 0.647493978052996, 'gamma': 0.013360961019946993, 'lambda': 0.7800455035458825, 'alpha': 3.197152324323484}. Best is trial 2 with value: 60.04181396510469.\n",
      "[I 2025-01-29 17:17:39,537] Trial 4 finished with value: 56.25330852073049 and parameters: {'n_estimators': 486, 'learning_rate': 0.09737297743950063, 'max_depth': 10, 'subsample': 0.5966048803830633, 'colsample_bytree': 0.8933529023854626, 'gamma': 4.8152823645624085, 'lambda': 1.5466403531468402, 'alpha': 1.1658664460432093}. Best is trial 4 with value: 56.25330852073049.\n",
      "[I 2025-01-29 17:18:35,262] Trial 5 finished with value: 95.87258651240023 and parameters: {'n_estimators': 991, 'learning_rate': 0.12752524219863404, 'max_depth': 3, 'subsample': 0.7569692083028532, 'colsample_bytree': 0.7879808572430518, 'gamma': 2.254588761089278, 'lambda': 3.654389591820777, 'alpha': 1.874463601415911}. Best is trial 4 with value: 56.25330852073049.\n",
      "[I 2025-01-29 17:21:04,919] Trial 6 finished with value: 53.18631317196441 and parameters: {'n_estimators': 959, 'learning_rate': 0.0631000583243072, 'max_depth': 9, 'subsample': 0.9312548520986146, 'colsample_bytree': 0.6718008551802532, 'gamma': 1.266161946993094, 'lambda': 2.057062084635739, 'alpha': 1.8699926123911976}. Best is trial 6 with value: 53.18631317196441.\n",
      "[I 2025-01-29 17:21:45,986] Trial 7 finished with value: 66.14733842725857 and parameters: {'n_estimators': 282, 'learning_rate': 0.13312407549986824, 'max_depth': 10, 'subsample': 0.6878559983912774, 'colsample_bytree': 0.7522632793129826, 'gamma': 2.805310180630085, 'lambda': 4.640926883355973, 'alpha': 3.8935844942560487}. Best is trial 6 with value: 53.18631317196441.\n",
      "[I 2025-01-29 17:22:26,523] Trial 8 finished with value: 74.95721885069318 and parameters: {'n_estimators': 442, 'learning_rate': 0.14790868665333784, 'max_depth': 8, 'subsample': 0.5763127485540489, 'colsample_bytree': 0.7837946394264221, 'gamma': 0.019829613684934633, 'lambda': 1.8418076061933313, 'alpha': 3.5726797114293274}. Best is trial 6 with value: 53.18631317196441.\n",
      "[I 2025-01-29 17:23:12,559] Trial 9 finished with value: 135.93266471803034 and parameters: {'n_estimators': 431, 'learning_rate': 0.020992982189188807, 'max_depth': 7, 'subsample': 0.6366558063346032, 'colsample_bytree': 0.5394976984283655, 'gamma': 1.235153796382435, 'lambda': 0.7334621844967887, 'alpha': 2.3845185865363394}. Best is trial 6 with value: 53.18631317196441.\n",
      "[I 2025-01-29 17:24:03,345] Trial 10 finished with value: 156.5618532871679 and parameters: {'n_estimators': 640, 'learning_rate': 0.010188029623298178, 'max_depth': 5, 'subsample': 0.9939196307741307, 'colsample_bytree': 0.9780389700906147, 'gamma': 2.071978416109167, 'lambda': 3.369000046038646, 'alpha': 4.974060761426997}. Best is trial 6 with value: 53.18631317196441.\n",
      "[I 2025-01-29 17:25:30,620] Trial 11 finished with value: 49.10455279817041 and parameters: {'n_estimators': 678, 'learning_rate': 0.06849650452415033, 'max_depth': 10, 'subsample': 0.8567426947446007, 'colsample_bytree': 0.9452287756596901, 'gamma': 3.6051711222069516, 'lambda': 1.8594490062165359, 'alpha': 0.0088828456190444}. Best is trial 11 with value: 49.10455279817041.\n",
      "[I 2025-01-29 17:27:03,247] Trial 12 finished with value: 59.492319873585735 and parameters: {'n_estimators': 688, 'learning_rate': 0.05800610138857674, 'max_depth': 9, 'subsample': 0.8605837893470106, 'colsample_bytree': 0.602844408454176, 'gamma': 3.4284132946024855, 'lambda': 2.5885727512293086, 'alpha': 0.011587814940180907}. Best is trial 11 with value: 49.10455279817041.\n",
      "[I 2025-01-29 17:28:18,362] Trial 13 finished with value: 54.67939248536628 and parameters: {'n_estimators': 734, 'learning_rate': 0.20224318233209765, 'max_depth': 9, 'subsample': 0.933069917300777, 'colsample_bytree': 0.991778820213324, 'gamma': 3.717581129353396, 'lambda': 2.1768439772540518, 'alpha': 0.11039523296714986}. Best is trial 11 with value: 49.10455279817041.\n",
      "[I 2025-01-29 17:28:31,161] Trial 14 finished with value: 136.98584636626617 and parameters: {'n_estimators': 144, 'learning_rate': 0.06035421292318097, 'max_depth': 5, 'subsample': 0.8392658154293493, 'colsample_bytree': 0.8995686897958955, 'gamma': 1.0501794656174752, 'lambda': 2.942889184331167, 'alpha': 0.9849016399032815}. Best is trial 11 with value: 49.10455279817041.\n",
      "[I 2025-01-29 17:30:13,893] Trial 15 finished with value: 65.35885026731114 and parameters: {'n_estimators': 778, 'learning_rate': 0.19065946027663094, 'max_depth': 10, 'subsample': 0.9961040580958862, 'colsample_bytree': 0.6918158848203989, 'gamma': 1.7299161719630494, 'lambda': 1.4169447597256835, 'alpha': 2.0829773609268116}. Best is trial 11 with value: 49.10455279817041.\n",
      "[I 2025-01-29 17:31:42,338] Trial 16 finished with value: 68.69453857101055 and parameters: {'n_estimators': 611, 'learning_rate': 0.05863134418325988, 'max_depth': 9, 'subsample': 0.9079500351023502, 'colsample_bytree': 0.5098243458999527, 'gamma': 3.023743578437046, 'lambda': 0.1368017908028114, 'alpha': 0.531388547345991}. Best is trial 11 with value: 49.10455279817041.\n",
      "[I 2025-01-29 17:33:03,628] Trial 17 finished with value: 76.8635018447946 and parameters: {'n_estimators': 782, 'learning_rate': 0.1822627287970408, 'max_depth': 8, 'subsample': 0.7392205839251904, 'colsample_bytree': 0.5752500560044549, 'gamma': 3.9037416495696857, 'lambda': 2.311889340921532, 'alpha': 1.7347917747764408}. Best is trial 11 with value: 49.10455279817041.\n",
      "[I 2025-01-29 17:33:40,974] Trial 18 finished with value: 83.44969070175367 and parameters: {'n_estimators': 542, 'learning_rate': 0.23797838397588372, 'max_depth': 5, 'subsample': 0.8556276506683749, 'colsample_bytree': 0.6968601486156095, 'gamma': 1.4788193814579491, 'lambda': 3.9645975224697465, 'alpha': 4.519966454851128}. Best is trial 11 with value: 49.10455279817041.\n",
      "[I 2025-01-29 17:34:21,037] Trial 19 finished with value: 58.53809149890313 and parameters: {'n_estimators': 288, 'learning_rate': 0.04460484940849167, 'max_depth': 9, 'subsample': 0.9475891852943801, 'colsample_bytree': 0.9135998706056421, 'gamma': 2.78721407348945, 'lambda': 1.2678718501519621, 'alpha': 2.7215668171785157}. Best is trial 11 with value: 49.10455279817041.\n",
      "[I 2025-01-29 17:35:24,038] Trial 20 finished with value: 73.89562040769282 and parameters: {'n_estimators': 810, 'learning_rate': 0.09812671132396564, 'max_depth': 6, 'subsample': 0.7919077926998168, 'colsample_bytree': 0.8439312127350591, 'gamma': 0.6235388391866192, 'lambda': 2.8094706451361193, 'alpha': 0.8199127854601136}. Best is trial 11 with value: 49.10455279817041.\n",
      "[I 2025-01-29 17:36:38,882] Trial 21 finished with value: 54.640952476500345 and parameters: {'n_estimators': 717, 'learning_rate': 0.18542453911192552, 'max_depth': 9, 'subsample': 0.9353005035889539, 'colsample_bytree': 0.9942699276176661, 'gamma': 3.8406270444442168, 'lambda': 1.9815946464054008, 'alpha': 0.0067851284518186585}. Best is trial 11 with value: 49.10455279817041.\n",
      "[I 2025-01-29 17:37:52,965] Trial 22 finished with value: 52.88222841376987 and parameters: {'n_estimators': 583, 'learning_rate': 0.16665959833719343, 'max_depth': 10, 'subsample': 0.8818603266570891, 'colsample_bytree': 0.9409503456149015, 'gamma': 4.082273220413937, 'lambda': 1.9473064687775503, 'alpha': 0.46748197647852496}. Best is trial 11 with value: 49.10455279817041.\n",
      "[I 2025-01-29 17:39:08,207] Trial 23 finished with value: 55.42624986962805 and parameters: {'n_estimators': 579, 'learning_rate': 0.2226160677846004, 'max_depth': 10, 'subsample': 0.8861719304890916, 'colsample_bytree': 0.9372510996890466, 'gamma': 4.2677442526675105, 'lambda': 1.7289826741144854, 'alpha': 1.5281382261874428}. Best is trial 11 with value: 49.10455279817041.\n",
      "[I 2025-01-29 17:39:54,670] Trial 24 finished with value: 59.29868926432385 and parameters: {'n_estimators': 340, 'learning_rate': 0.15671701359651652, 'max_depth': 10, 'subsample': 0.8156206855151847, 'colsample_bytree': 0.8483595492454968, 'gamma': 3.290509111981481, 'lambda': 1.1894135042562215, 'alpha': 0.6323112976522798}. Best is trial 11 with value: 49.10455279817041.\n",
      "[I 2025-01-29 17:40:58,175] Trial 25 finished with value: 60.2853186538853 and parameters: {'n_estimators': 662, 'learning_rate': 0.0790949166725991, 'max_depth': 8, 'subsample': 0.9673938392917621, 'colsample_bytree': 0.9370808192531338, 'gamma': 4.232523497367365, 'lambda': 3.057957811395985, 'alpha': 0.4577457452332294}. Best is trial 11 with value: 49.10455279817041.\n",
      "[I 2025-01-29 17:42:08,196] Trial 26 finished with value: 63.247469421446084 and parameters: {'n_estimators': 515, 'learning_rate': 0.1623859086854986, 'max_depth': 10, 'subsample': 0.8848126271423122, 'colsample_bytree': 0.6355424319994635, 'gamma': 2.5766816611613335, 'lambda': 2.060078897665168, 'alpha': 1.4355634625413707}. Best is trial 11 with value: 49.10455279817041.\n",
      "[I 2025-01-29 17:43:54,932] Trial 27 finished with value: 51.75313184069009 and parameters: {'n_estimators': 940, 'learning_rate': 0.03490666047977309, 'max_depth': 9, 'subsample': 0.7541687086849715, 'colsample_bytree': 0.9492656567314671, 'gamma': 3.3796860218207305, 'lambda': 2.5054646861190584, 'alpha': 0.31684499869887595}. Best is trial 11 with value: 49.10455279817041.\n",
      "[I 2025-01-29 17:44:48,385] Trial 28 finished with value: 52.24188060269062 and parameters: {'n_estimators': 356, 'learning_rate': 0.03705756497036575, 'max_depth': 10, 'subsample': 0.7170297965353082, 'colsample_bytree': 0.9562478285455108, 'gamma': 3.34274263049911, 'lambda': 2.6171096349915293, 'alpha': 0.3664702232853415}. Best is trial 11 with value: 49.10455279817041.\n",
      "[I 2025-01-29 17:45:09,988] Trial 29 finished with value: 218.27154237909846 and parameters: {'n_estimators': 359, 'learning_rate': 0.035413522842627845, 'max_depth': 3, 'subsample': 0.6983720225495772, 'colsample_bytree': 0.8713208977520509, 'gamma': 3.4159291508792213, 'lambda': 2.5538414079545113, 'alpha': 0.28454136237265115}. Best is trial 11 with value: 49.10455279817041.\n",
      "[I 2025-01-29 17:45:37,586] Trial 30 finished with value: 88.61644617103028 and parameters: {'n_estimators': 204, 'learning_rate': 0.026600169145196063, 'max_depth': 8, 'subsample': 0.6792693660192743, 'colsample_bytree': 0.956875772469788, 'gamma': 3.066409901922107, 'lambda': 3.4544151860521852, 'alpha': 1.1667209622014978}. Best is trial 11 with value: 49.10455279817041.\n",
      "[I 2025-01-29 17:46:34,123] Trial 31 finished with value: 56.05954422075054 and parameters: {'n_estimators': 440, 'learning_rate': 0.1156206245884937, 'max_depth': 10, 'subsample': 0.7490739290567427, 'colsample_bytree': 0.9459177736353398, 'gamma': 4.064323617944555, 'lambda': 2.490736744479279, 'alpha': 0.7215361176657134}. Best is trial 11 with value: 49.10455279817041.\n",
      "[I 2025-01-29 17:48:16,134] Trial 32 finished with value: 52.7882184194448 and parameters: {'n_estimators': 921, 'learning_rate': 0.04323621259330164, 'max_depth': 9, 'subsample': 0.7209123089664665, 'colsample_bytree': 0.9104037230257046, 'gamma': 4.601315179083472, 'lambda': 3.108544361265161, 'alpha': 0.3108797374157068}. Best is trial 11 with value: 49.10455279817041.\n",
      "[I 2025-01-29 17:49:53,362] Trial 33 finished with value: 56.21763915008004 and parameters: {'n_estimators': 892, 'learning_rate': 0.08154541098161633, 'max_depth': 9, 'subsample': 0.6501024846778751, 'colsample_bytree': 0.8756755822565034, 'gamma': 4.937819642385851, 'lambda': 4.032527693920497, 'alpha': 0.34596606569511795}. Best is trial 11 with value: 49.10455279817041.\n",
      "[I 2025-01-29 17:51:45,172] Trial 34 finished with value: 52.77171872578063 and parameters: {'n_estimators': 928, 'learning_rate': 0.04025538641752392, 'max_depth': 9, 'subsample': 0.7094397610573899, 'colsample_bytree': 0.8093811798870032, 'gamma': 4.5432185045195155, 'lambda': 3.1116851709208295, 'alpha': 0.9585119936004827}. Best is trial 11 with value: 49.10455279817041.\n",
      "[I 2025-01-29 17:53:27,890] Trial 35 finished with value: 64.31847784948363 and parameters: {'n_estimators': 832, 'learning_rate': 0.014735056133580733, 'max_depth': 8, 'subsample': 0.7764791061806402, 'colsample_bytree': 0.8236459271693329, 'gamma': 3.6045967643178027, 'lambda': 2.752430803974787, 'alpha': 0.9668948322709023}. Best is trial 11 with value: 49.10455279817041.\n",
      "[I 2025-01-29 17:54:52,402] Trial 36 finished with value: 63.15650153228 and parameters: {'n_estimators': 948, 'learning_rate': 0.07474134046782287, 'max_depth': 7, 'subsample': 0.8191325256492867, 'colsample_bytree': 0.7252578449487586, 'gamma': 4.529363497518858, 'lambda': 3.317925245182091, 'alpha': 1.2510203369805994}. Best is trial 11 with value: 49.10455279817041.\n",
      "[I 2025-01-29 17:57:07,758] Trial 37 finished with value: 49.09956678232806 and parameters: {'n_estimators': 976, 'learning_rate': 0.03533635148231648, 'max_depth': 10, 'subsample': 0.7193324904029138, 'colsample_bytree': 0.8146030125958886, 'gamma': 3.141650744859958, 'lambda': 4.035202839704222, 'alpha': 0.8636126527933182}. Best is trial 37 with value: 49.09956678232806.\n",
      "[I 2025-01-29 17:59:14,499] Trial 38 finished with value: 50.82710997301208 and parameters: {'n_estimators': 1000, 'learning_rate': 0.10052591520167065, 'max_depth': 10, 'subsample': 0.655382337629313, 'colsample_bytree': 0.9664175225055359, 'gamma': 2.3305121273434346, 'lambda': 4.512079087286943, 'alpha': 0.7294231813246366}. Best is trial 37 with value: 49.09956678232806.\n",
      "[I 2025-01-29 18:01:23,683] Trial 39 finished with value: 53.071574322716025 and parameters: {'n_estimators': 992, 'learning_rate': 0.10275135593241685, 'max_depth': 10, 'subsample': 0.5906282059324942, 'colsample_bytree': 0.8815566746285952, 'gamma': 2.295557298984806, 'lambda': 4.7288861601626015, 'alpha': 1.4563779275125248}. Best is trial 37 with value: 49.09956678232806.\n",
      "[I 2025-01-29 18:02:27,851] Trial 40 finished with value: 78.37279177796593 and parameters: {'n_estimators': 852, 'learning_rate': 0.11544169214810715, 'max_depth': 6, 'subsample': 0.556683194092358, 'colsample_bytree': 0.7618133315144101, 'gamma': 2.5218277892277983, 'lambda': 4.295465455150556, 'alpha': 2.3983893967308645}. Best is trial 37 with value: 49.09956678232806.\n",
      "[I 2025-01-29 18:04:21,041] Trial 41 finished with value: 49.65447041612639 and parameters: {'n_estimators': 909, 'learning_rate': 0.07228078941540672, 'max_depth': 10, 'subsample': 0.6529774774548959, 'colsample_bytree': 0.9643763809852056, 'gamma': 3.03443321123011, 'lambda': 4.9103675024849895, 'alpha': 0.6668537209093517}. Best is trial 37 with value: 49.09956678232806.\n",
      "[I 2025-01-29 18:06:24,305] Trial 42 finished with value: 49.44275390670038 and parameters: {'n_estimators': 995, 'learning_rate': 0.06974954601680872, 'max_depth': 10, 'subsample': 0.6572683690985412, 'colsample_bytree': 0.9653744016261592, 'gamma': 3.0121725894523625, 'lambda': 4.9324617297005755, 'alpha': 0.7371824136263184}. Best is trial 37 with value: 49.09956678232806.\n",
      "[I 2025-01-29 18:08:27,556] Trial 43 finished with value: 49.906859415119214 and parameters: {'n_estimators': 997, 'learning_rate': 0.08587607731661553, 'max_depth': 10, 'subsample': 0.6618514518734501, 'colsample_bytree': 0.9803371598277107, 'gamma': 2.959306631218107, 'lambda': 4.968184844914204, 'alpha': 0.749659990793244}. Best is trial 37 with value: 49.09956678232806.\n",
      "[I 2025-01-29 18:10:17,468] Trial 44 finished with value: 50.37513585837348 and parameters: {'n_estimators': 881, 'learning_rate': 0.07334321612117342, 'max_depth': 10, 'subsample': 0.6254298669729298, 'colsample_bytree': 0.9199523535426832, 'gamma': 3.0188186969147077, 'lambda': 4.951155118680757, 'alpha': 1.2411732705682748}. Best is trial 37 with value: 49.09956678232806.\n",
      "[I 2025-01-29 18:12:21,984] Trial 45 finished with value: 52.372174375043066 and parameters: {'n_estimators': 971, 'learning_rate': 0.13484186493094125, 'max_depth': 10, 'subsample': 0.6826510743544105, 'colsample_bytree': 0.9800175576796681, 'gamma': 2.6981089817782506, 'lambda': 4.383760806252773, 'alpha': 0.9433584070619342}. Best is trial 37 with value: 49.09956678232806.\n",
      "[I 2025-01-29 18:13:54,504] Trial 46 finished with value: 58.37673731728936 and parameters: {'n_estimators': 903, 'learning_rate': 0.09039814130973726, 'max_depth': 9, 'subsample': 0.5387990134664703, 'colsample_bytree': 0.9955219004042593, 'gamma': 1.9828038852713041, 'lambda': 4.954010972801387, 'alpha': 0.14653072976107992}. Best is trial 37 with value: 49.09956678232806.\n",
      "[I 2025-01-29 18:15:32,303] Trial 47 finished with value: 50.99873980512902 and parameters: {'n_estimators': 756, 'learning_rate': 0.05505647906757976, 'max_depth': 10, 'subsample': 0.6157833807810942, 'colsample_bytree': 0.8574041383931555, 'gamma': 2.9628434749932184, 'lambda': 3.976716196304232, 'alpha': 2.0697572063298244}. Best is trial 37 with value: 49.09956678232806.\n",
      "[I 2025-01-29 18:16:22,920] Trial 48 finished with value: 85.12920581858354 and parameters: {'n_estimators': 821, 'learning_rate': 0.08792375402200603, 'max_depth': 4, 'subsample': 0.66566308085398, 'colsample_bytree': 0.9703727030680677, 'gamma': 3.6289429518325083, 'lambda': 4.2844488603518345, 'alpha': 1.684843379152997}. Best is trial 37 with value: 49.09956678232806.\n",
      "[I 2025-01-29 18:17:55,559] Trial 49 finished with value: 54.22789691027844 and parameters: {'n_estimators': 870, 'learning_rate': 0.048949005547395244, 'max_depth': 9, 'subsample': 0.6047123229083787, 'colsample_bytree': 0.9229535303473345, 'gamma': 3.194581221152214, 'lambda': 4.662538889589067, 'alpha': 0.6235302560404967}. Best is trial 37 with value: 49.09956678232806.\n"
     ]
    },
    {
     "name": "stdout",
     "output_type": "stream",
     "text": [
      "Best hyperparameters: {'n_estimators': 976, 'learning_rate': 0.03533635148231648, 'max_depth': 10, 'subsample': 0.7193324904029138, 'colsample_bytree': 0.8146030125958886, 'gamma': 3.141650744859958, 'lambda': 4.035202839704222, 'alpha': 0.8636126527933182}\n"
     ]
    }
   ],
   "source": [
    "# 📌 Hyperparameter Optimization Function\n",
    "from sklearn.metrics import mean_absolute_error\n",
    "\n",
    "def objective(trial, X_train, y_train, X_val, y_val):\n",
    "    param = {\n",
    "        'n_estimators': trial.suggest_int('n_estimators', 100, 1000),\n",
    "        'learning_rate': trial.suggest_float('learning_rate', 0.01, 0.3),\n",
    "        'max_depth': trial.suggest_int('max_depth', 3, 10),\n",
    "        'subsample': trial.suggest_float('subsample', 0.5, 1.0),\n",
    "        'colsample_bytree': trial.suggest_float('colsample_bytree', 0.5, 1.0),\n",
    "        'gamma': trial.suggest_float('gamma', 0, 5),\n",
    "        'lambda': trial.suggest_float('lambda', 0, 5),\n",
    "        'alpha': trial.suggest_float('alpha', 0, 5),\n",
    "    }\n",
    "    \n",
    "    # Train the model\n",
    "    model = XGBRegressor(**param, random_state=42, n_jobs=4)\n",
    "    model.fit(X_train, y_train)\n",
    "    \n",
    "    # Predict on validation set\n",
    "    y_pred = model.predict(X_val)\n",
    "    mae = mean_absolute_error(y_val, y_pred)\n",
    "    return mae\n",
    "\n",
    "# 📌 Run Optuna for Hyperparameter Tuning\n",
    "study = optuna.create_study(direction='minimize')\n",
    "study.optimize(lambda trial: objective(trial, X_train, y_train, X_val, y_val), n_trials=50)\n",
    "\n",
    "# 📌 Print Best Parameters\n",
    "print(\"Best hyperparameters:\", study.best_params)\n"
   ]
  },
  {
   "cell_type": "code",
   "execution_count": 18,
   "id": "b5468167",
   "metadata": {},
   "outputs": [
    {
     "name": "stdout",
     "output_type": "stream",
     "text": [
      "MAE after Hyperparameter Tuning: 49.09956678232806\n"
     ]
    }
   ],
   "source": [
    "# 📌 Step 6: Train the XGBoost Model\n",
    "# 📌 Train XGBoost with Best Hyperparameters from Optuna\n",
    "best_params = {\n",
    "    'n_estimators': 976,\n",
    "    'learning_rate': 0.03533635148231648,\n",
    "    'max_depth': 10,\n",
    "    'subsample': 0.7193324904029138,\n",
    "    'colsample_bytree': 0.8146030125958886,\n",
    "    'gamma': 3.141650744859958,\n",
    "    'lambda': 4.035202839704222,\n",
    "    'alpha': 0.8636126527933182\n",
    "}\n",
    "\n",
    "# Train the optimized model\n",
    "optimized_model = XGBRegressor(**best_params, n_jobs=4, random_state=42)\n",
    "optimized_model.fit(X_train, y_train)\n",
    "\n",
    "# Predict and Evaluate\n",
    "y_pred = optimized_model.predict(X_val)\n",
    "mae = mean_absolute_error(y_val, y_pred)\n",
    "print(f\"MAE after Hyperparameter Tuning: {mae}\")\n"
   ]
  },
  {
   "cell_type": "code",
   "execution_count": 29,
   "id": "daf0354b",
   "metadata": {},
   "outputs": [
    {
     "name": "stdout",
     "output_type": "stream",
     "text": [
      "MAE after Hyperparameter Tuning: 49.09956678232806\n"
     ]
    }
   ],
   "source": [
    "\n",
    "# 📌 Train XGBoost with Best Found Parameters\n",
    "best_params = study.best_params\n",
    "\n",
    "# Train the optimized model\n",
    "optimized_model = XGBRegressor(**best_params, random_state=42, n_jobs=4)\n",
    "optimized_model.fit(X_train, y_train)\n",
    "\n",
    "# Predict and Evaluate\n",
    "y_pred = optimized_model.predict(X_val)\n",
    "mae = mean_absolute_error(y_val, y_pred)\n",
    "print(f\"MAE after Hyperparameter Tuning: {mae}\")\n",
    "    "
   ]
  },
  {
   "cell_type": "code",
   "execution_count": 31,
   "id": "d8bcca4f",
   "metadata": {},
   "outputs": [],
   "source": [
    "# 📌 Step 7: Make Predictions on Test Data\n",
    "for col in ['StateHoliday', 'StoreType', 'Assortment']:\n",
    "    test_merged[col] = test_merged[col].astype('category').cat.codes\n",
    "\n",
    "test_predictions = optimized_model.predict(test_merged[features])\n",
    "test_predictions = np.where(test_predictions < 0, 0, test_predictions)  # Handle negative predictions\n"
   ]
  },
  {
   "cell_type": "code",
   "execution_count": 32,
   "id": "82d3e530",
   "metadata": {},
   "outputs": [
    {
     "name": "stdout",
     "output_type": "stream",
     "text": [
      "Submission file 'submission.csv' created successfully.\n"
     ]
    }
   ],
   "source": [
    "# 📌 Step 8: Save Submission File\n",
    "submission = pd.DataFrame({\n",
    "    'Id': test_merged['Id'],\n",
    "    'Sales': test_predictions\n",
    "})\n",
    "submission.to_csv(\"submission1.csv\", index=False)\n",
    "print(\"Submission file 'submission.csv' created successfully.\")\n"
   ]
  },
  {
   "cell_type": "code",
   "execution_count": null,
   "id": "da34bf05",
   "metadata": {},
   "outputs": [],
   "source": [
    "\n",
    "# Apply Log Transform for Stability\n",
    "test_predictions = np.exp(test_predictions) - 1  # Undo log transformation\n",
    "\n",
    "# Ensure no negative predictions\n",
    "test_predictions = np.maximum(test_predictions, 0)\n",
    "\n",
    "# Display Prediction Statistics\n",
    "print(f\"Final Predictions - Min: {test_predictions.min()}, Max: {test_predictions.max()}, Mean: {test_predictions.mean()}\")\n"
   ]
  },
  {
   "cell_type": "code",
   "execution_count": null,
   "id": "b9ce1d8b",
   "metadata": {},
   "outputs": [],
   "source": [
    "\n",
    "from sklearn.metrics import mean_squared_error\n",
    "\n",
    "# Compute RMSE\n",
    "rmse = np.sqrt(mean_squared_error(y_val, y_pred))\n",
    "print(f\"MAE: {mae}, RMSE: {rmse}\")\n"
   ]
  },
  {
   "cell_type": "code",
   "execution_count": 31,
   "id": "d8bcca4f",
   "metadata": {},
   "outputs": [],
   "source": [
    "# 📌 Step 7: Make Predictions on Test Data\n",
    "for col in ['StateHoliday', 'StoreType', 'Assortment']:\n",
    "    test_merged[col] = test_merged[col].astype('category').cat.codes\n",
    "\n",
    "test_predictions = optimized_model.predict(test_merged[features])\n",
    "test_predictions = np.where(test_predictions < 0, 0, test_predictions)  # Handle negative predictions\n"
   ]
  },
  {
   "cell_type": "code",
   "execution_count": null,
   "id": "d0514aad",
   "metadata": {},
   "outputs": [],
   "source": []
  },
  {
   "cell_type": "code",
   "execution_count": 32,
   "id": "82d3e530",
   "metadata": {},
   "outputs": [
    {
     "name": "stdout",
     "output_type": "stream",
     "text": [
      "Submission file 'submission.csv' created successfully.\n"
     ]
    }
   ],
   "source": [
    "# 📌 Step 8: Save Submission File\n",
    "submission = pd.DataFrame({\n",
    "    'Id': test_merged['Id'],\n",
    "    'Sales': test_predictions\n",
    "})\n",
    "submission.to_csv(\"submission1.csv\", index=False)\n",
    "print(\"Submission file 'submission.csv' created successfully.\")\n"
   ]
  }
 ],
 "metadata": {
  "kernelspec": {
   "display_name": "Python 3",
   "language": "python",
   "name": "python3"
  },
  "language_info": {
   "codemirror_mode": {
    "name": "ipython",
    "version": 3
   },
   "file_extension": ".py",
   "mimetype": "text/x-python",
   "name": "python",
   "nbconvert_exporter": "python",
   "pygments_lexer": "ipython3",
   "version": "3.13.0"
  }
 },
 "nbformat": 4,
 "nbformat_minor": 5
}
